{
 "cells": [
  {
   "cell_type": "markdown",
   "metadata": {},
   "source": [
    "![image](https://raw.githubusercontent.com/IBM/watson-machine-learning-samples/master/cloud/notebooks/headers/watsonx-Prompt_Lab-Notebook.png)\n",
    "# Prompt Notebook - Prompt Lab Notebook v1.1.0\n",
    "This notebook contains steps and code to demonstrate inferencing of prompts\n",
    "generated in Prompt Lab in watsonx.ai. It introduces Python API commands\n",
    "for authentication using API key and prompt inferencing using WML API.\n",
    "\n",
    "**Note:** Notebook code generated using Prompt Lab will execute successfully.\n",
    "If code is modified or reordered, there is no guarantee it will successfully execute.\n",
    "For details, see: <a href=\"/docs/content/wsj/analyze-data/fm-prompt-save.html?context=wx\" target=\"_blank\">Saving your work in Prompt Lab as a notebook.</a>\n",
    "\n",
    "Some familiarity with Python is helpful. This notebook uses Python 3.10.\n",
    "\n",
    "## Notebook goals\n",
    "The learning goals of this notebook are:\n",
    "\n",
    "* Defining a Python function for obtaining credentials from the IBM Cloud personal API key\n",
    "* Defining parameters of the Model object\n",
    "* Using the Model object to generate response using the defined model id, parameters and the prompt input\n",
    "\n",
    "# Setup"
   ]
  },
  {
   "cell_type": "markdown",
   "metadata": {},
   "source": [
    "## watsonx API connection\n",
    "This cell defines the credentials required to work with watsonx API for Foundation\n",
    "Model inferencing.\n",
    "\n",
    "**Action:** Provide the IBM Cloud personal API key. For details, see\n",
    "<a href=\"https://cloud.ibm.com/docs/account?topic=account-userapikey&interface=ui\" target=\"_blank\">documentation</a>.\n"
   ]
  },
  {
   "cell_type": "code",
   "execution_count": null,
   "metadata": {
    "id": "85dff185-f263-48ff-94db-098a8801f06a"
   },
   "outputs": [
    {
     "name": "stdout",
     "output_type": "stream",
     "text": [
      "Please enter your api key (hit enter):  ········\n"
     ]
    }
   ],
   "source": [
    "import os\n",
    "from ibm_watsonx_ai import APIClient, Credentials\n",
    "import getpass\n",
    "\n",
    "credentials = Credentials(\n",
    "    url=\"https://eu-gb.ml.cloud.ibm.com\",\n",
    "    api_key=getpass.getpass(\"Please enter your api key (hit enter): \")\n",
    ")\n",
    "\n"
   ]
  },
  {
   "cell_type": "markdown",
   "metadata": {},
   "source": [
    "# Inferencing\n",
    "This cell demonstrated how we can use the model object as well as the created access token\n",
    "to pair it with parameters and input string to obtain\n",
    "the response from the the selected foundation model.\n",
    "\n",
    "## Defining the model id\n",
    "We need to specify model id that will be used for inferencing:\n"
   ]
  },
  {
   "cell_type": "code",
   "execution_count": 7,
   "metadata": {
    "id": "d8ee259c-5d9c-4290-a285-ccedf247d589"
   },
   "outputs": [],
   "source": [
    "model_id = \"ibm/granite-3-8b-instruct\"\n"
   ]
  },
  {
   "cell_type": "markdown",
   "metadata": {},
   "source": [
    "## Defining the model parameters\n",
    "We need to provide a set of model parameters that will influence the\n",
    "result:"
   ]
  },
  {
   "cell_type": "code",
   "execution_count": 8,
   "metadata": {
    "id": "116f7a0a-f34a-40e8-ae4d-070057a7eccb"
   },
   "outputs": [],
   "source": [
    "parameters = {\n",
    "    \"decoding_method\": \"greedy\",\n",
    "    \"max_new_tokens\": 200,\n",
    "    \"min_new_tokens\": 0,\n",
    "    \"repetition_penalty\": 1\n",
    "}"
   ]
  },
  {
   "cell_type": "markdown",
   "metadata": {},
   "source": [
    "## Defining the project id or space id\n",
    "The API requires project id or space id that provides the context for the call. We will obtain\n",
    "the id from the project or space in which this notebook runs:"
   ]
  },
  {
   "cell_type": "code",
   "execution_count": 9,
   "metadata": {
    "id": "8e42dca1-aa73-471a-a623-7f79f71ea6fc"
   },
   "outputs": [],
   "source": [
    "project_id = os.getenv(\"PROJECT_ID\")\n",
    "space_id = os.getenv(\"SPACE_ID\")\n"
   ]
  },
  {
   "cell_type": "markdown",
   "metadata": {},
   "source": [
    "## Defining the Model object\n",
    "We need to define the Model object using the properties we defined so far:\n"
   ]
  },
  {
   "cell_type": "code",
   "execution_count": 10,
   "metadata": {
    "id": "30c3f869-3712-41db-96f4-b308798e30c9"
   },
   "outputs": [],
   "source": [
    "from ibm_watsonx_ai.foundation_models import ModelInference\n",
    "\n",
    "model = ModelInference(\n",
    "\tmodel_id = model_id,\n",
    "\tparams = parameters,\n",
    "\tcredentials = credentials,\n",
    "\tproject_id = project_id,\n",
    "\tspace_id = space_id\n",
    "\t)\n"
   ]
  },
  {
   "cell_type": "markdown",
   "metadata": {},
   "source": [
    "## Defining the inferencing input\n",
    "Foundation model inferencing API accepts a natural language input that it will use\n",
    "to provide the natural language response. The API is sensitive to formatting. Input\n",
    "structure, presence of training steps (one-shot, two-shot learning etc.), as well\n",
    "as phrasing all influence the final response and belongs to the emerging discipline of\n",
    "Prompt Engineering.\n",
    "\n",
    "Let us provide the input we got from the Prompt Lab:\n"
   ]
  },
  {
   "cell_type": "code",
   "execution_count": null,
   "metadata": {
    "id": "3953e2bd-24c8-4021-b574-0e4c85f07a6b"
   },
   "outputs": [],
   "source": [
    "prompt_input = \"\"\"You are an intelligent career guidance agent trained on expert knowledge about academic strengths, career paths, and future job trends.\n",
    "\n",
    "A student will now describe their interests, strengths, academic background, and doubts. Based on that and the grounded file \"Career_Guidance_Professional.txt\", suggest personalized career paths.\n",
    "\n",
    "Start by asking:\n",
    "1. What subjects do you enjoy the most?\n",
    "2. Do you prefer working with people, data, machines, or ideas?\n",
    "3. What is your academic background?\n",
    "4. Are there industries you're curious about?\n",
    "\n",
    "After getting answers, suggest 3 career options that fit well with their profile, explain each clearly, and recommend next steps.\n",
    "\n",
    "Remember to base your suggestions on the provided file \"Career_Guidance_Professional.txt\".\n",
    "\n",
    "1. What subjects do you enjoy the most?\n",
    "2. Do you prefer working with people, data, machines, or ideas?\n",
    "3. What is your academic background?\n",
    "4. Are there industries you're curious about?\n",
    "\n",
    "[Student]\n",
    "1. I enjoy subjects like Mathematics, Physics, and Computer Science.\n",
    "2. I prefer working with both data and ideas.\n",
    "3. I have a Bachelor's degree in Computer Science and a Master's degree in Data Science.\n",
    "4. I'm curious about the tech industry, particularly in AI and machine learning.\n",
    "\n",
    "[Agent]\n",
    "Based on your interests, strengths, and academic background, I suggest the following three career paths:\n",
    "\n",
    "1. **AI Engineer**: This role involves designing, developing, and implementing AI models and systems. Given\"\"\"\n"
   ]
  },
  {
   "cell_type": "markdown",
   "metadata": {},
   "source": [
    "## Execution\n",
    "Let us now use the defined Model object and pair it with input and\n",
    "generate the response:\n"
   ]
  },
  {
   "cell_type": "code",
   "execution_count": 12,
   "metadata": {
    "id": "2b65e300-ae6b-414e-8278-29b23683a11e"
   },
   "outputs": [
    {
     "name": "stdout",
     "output_type": "stream",
     "text": [
      "Submitting generation request...\n",
      " your background in Computer Science and Data Science, you have a strong foundation in programming, algorithms, and machine learning. To pursue this career, consider gaining experience with popular AI frameworks like TensorFlow or PyTorch, and stay updated with the latest research in AI.\n",
      "\n",
      "2. **Data Scientist**: As a Data Scientist, you'll analyze and interpret complex data to help organizations make informed decisions. Your Master's degree in Data Science and interest in working with data make you a strong candidate for this role. To advance in this career, focus on improving your data visualization skills, learning new programming languages, and staying updated with the latest data analysis techniques.\n",
      "\n",
      "3. **Machine Learning Engineer**: This role focuses on building and deploying machine learning models in production environments. Your background in Computer Science and Data Science provides a solid foundation for this career. To excel in this role, gain experience with cloud platforms like AWS, Google Cloud, or Azure, and learn about\n"
     ]
    }
   ],
   "source": [
    "print(\"Submitting generation request...\")\n",
    "generated_response = model.generate_text(prompt=prompt_input, guardrails=True)\n",
    "print(generated_response)\n"
   ]
  },
  {
   "cell_type": "markdown",
   "metadata": {},
   "source": [
    "# Next steps\n",
    "You successfully completed this notebook! You learned how to use\n",
    "watsonx.ai inferencing SDK to generate response from the foundation model\n",
    "based on the provided input, model id and model parameters. Check out the\n",
    "official watsonx.ai site for more samples, tutorials, documentation, how-tos, and blog posts.\n",
    "\n",
    "<a id=\"copyrights\"></a>\n",
    "### Copyrights\n",
    "\n",
    "Licensed Materials - Copyright © 2023 IBM. This notebook and its source code are released under the terms of the ILAN License.\n",
    "Use, duplication disclosure restricted by GSA ADP Schedule Contract with IBM Corp.\n",
    "\n",
    "**Note:** The auto-generated notebooks are subject to the International License Agreement for Non-Warranted Programs (or equivalent) and License Information document for watsonx.ai Auto-generated Notebook (License Terms), such agreements located in the link below. Specifically, the Source Components and Sample Materials clause included in the License Information document for watsonx.ai Studio Auto-generated Notebook applies to the auto-generated notebooks.  \n",
    "\n",
    "By downloading, copying, accessing, or otherwise using the materials, you agree to the <a href=\"https://www14.software.ibm.com/cgi-bin/weblap/lap.pl?li_formnum=L-AMCU-BYC7LF\" target=\"_blank\">License Terms</a>  "
   ]
  },
  {
   "cell_type": "code",
   "execution_count": null,
   "metadata": {
    "id": "d2b56428-d4ad-40cc-95a1-11fb8e456801"
   },
   "outputs": [],
   "source": []
  },
  {
   "cell_type": "code",
   "execution_count": null,
   "metadata": {
    "id": "69199892-8fd0-4f6f-b177-4bdc876c5c56"
   },
   "outputs": [],
   "source": []
  },
  {
   "cell_type": "code",
   "execution_count": null,
   "metadata": {
    "id": "855cfbca-1f18-49a2-81ec-1e9f73274180"
   },
   "outputs": [],
   "source": []
  },
  {
   "cell_type": "code",
   "execution_count": null,
   "metadata": {
    "id": "04370757-3f8c-47fa-adfd-5c00aeb4d89e"
   },
   "outputs": [],
   "source": []
  }
 ],
 "metadata": {
  "kernelspec": {
   "display_name": "Python 3.11",
   "language": "python",
   "name": "python3"
  },
  "language_info": {
   "codemirror_mode": {
    "name": "ipython",
    "version": 3
   },
   "file_extension": ".py",
   "mimetype": "text/x-python",
   "name": "python",
   "nbconvert_exporter": "python",
   "pygments_lexer": "ipython3",
   "version": "3.11.13"
  }
 },
 "nbformat": 4,
 "nbformat_minor": 4
}
